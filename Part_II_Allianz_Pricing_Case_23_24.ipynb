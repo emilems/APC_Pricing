{
 "cells": [
  {
   "cell_type": "markdown",
   "metadata": {
    "id": "CvxEHcMI1WSS"
   },
   "source": [
    "<center> <h1> <span style=\"color:black\"> Allianz Pricing Business Case  </h1> </center>\n",
    "<center> <h2> <span style=\"color:red\"> From data preparation to risk modeling </h1> </center>"
   ]
  },
  {
   "cell_type": "markdown",
   "metadata": {
    "id": "bYTG-ttWBMQl"
   },
   "source": [
    "<center> <h2> <span style=\"color:red\"> Part II: modelling claim counts and amounts </h1> </center>"
   ]
  },
  {
   "cell_type": "markdown",
   "metadata": {
    "id": "gbtRQa-UH51O"
   },
   "source": [
    "### 0. Authors and set-up\n",
    "This case was developed by Ana Pais and Charl Marais (Allianz Benelux), in the framework of the APC module on insurance analytics, UvA, 2023-2024."
   ]
  },
  {
   "cell_type": "markdown",
   "metadata": {
    "id": "xRZDoOBBLROt"
   },
   "source": [
    "⚠️ **Initial considerations**\n",
    "\n",
    "This script assumes that you have access to the **Google Colab** platform or that you followed the steps mentioned on **initial_setup.pdf** to work locally on your laptops (if you do have the needed permissions from your employer).\n",
    "If none of the options is verified, you will not be able to proceed with the scripts provided, investigate the given data neither perform your own analysis.\n",
    "\n",
    "\n",
    "\n",
    "📝 **Tasks**\n",
    "\n",
    "* Each task is numbered\n",
    "* Per each task, read the respective description of the task and execute the instuctions. For the majority of the tasks a cell with code is available that needs to be completed or run\n",
    "* The spaces to be completed are marked with a blank space _______________\n",
    "* If you do feel the need to create more cells you can click on the cell you are currently and press **B**. A new cell will be created under the active one. See for instance https://jupyter-notebook.readthedocs.io/en/stable/examples/Notebook/Notebook%20Basics.html\n",
    "* Along the tasks you can find the following emojis:\n",
    "    * 📢: identifies some helpful hints refering to functions that can be used or code\n",
    "    * 💬: identifies discussion points. Feel free to share your opinion!\n",
    "\n",
    "Feel free to reach out to us in case of questions!"
   ]
  },
  {
   "cell_type": "code",
   "execution_count": 1,
   "metadata": {
    "id": "sBuoB1_HLROu"
   },
   "outputs": [],
   "source": [
    "import pandas as pd\n",
    "import matplotlib.pyplot as plt\n",
    "import numpy as np"
   ]
  },
  {
   "cell_type": "markdown",
   "metadata": {
    "id": "p1FyZOrOLROv"
   },
   "source": [
    "## 1. Pre-processing steps"
   ]
  },
  {
   "cell_type": "markdown",
   "metadata": {
    "id": "XFhKtMQdLROv",
    "tags": []
   },
   "source": [
    "The foundation of the technical premium assessment is to choose a fair value for the customer to pay based on their risk. To do this, the risk of the customer seeking insurance, must be estimated. The underlying assumption is that certain risk variables (or: features, covariates) are useful in explaining differences in the risk.\n",
    "\n",
    "\n",
    "How to create reasonable sub-groups (or: levels, bins) when working with categorical (or: factor), continuous or spatial variables is not an easy task. Some essential considerations to keep in mind is to find as much homogeneity as possible within a level or sub-group and to make sure every sub-group has a sufficient volume of observations (or: exposure to risk). This binning task can be done by relying on expert opinion or by resorting to some data-driven strategies to specify the sub-groups of a risk variable. The latter is the topic of the Henckaerts et al. (2018) paper in Scandinavian Actuarial Journal, see [link to publisher](https://www.tandfonline.com/doi/abs/10.1080/03461238.2018.1429300) or [paper on SSRN](https://papers.ssrn.com/sol3/papers.cfm?abstract_id=3052174).\n",
    "\n"
   ]
  },
  {
   "cell_type": "markdown",
   "metadata": {
    "id": "LuvGo4lcLROv"
   },
   "source": [
    "#### 1.1. Risk factors pre-processing\n",
    "\n",
    "📝 Complete the path to load the merged policy-claim database, cfr. Part I of the Allianz Pricing Case 23-24\n",
    "\n",
    "📝 Do the feature pre-processing for the following factor variables:\n",
    "\n",
    "* `Area`: {A, ..., F} -> {1, ..., 6} (has been set in `pol_clm_db.csv`)\n",
    "\n",
    "* `VehPower`: categorical feature, where we merge vehicle power groups bigger and equal to 9. In total, 6 classes based on expert opinion.\n",
    "\n",
    "* `VehAge`: 3 categorical classes [0, 1), [1, 10), (10, +inf) based on expert opinion\n",
    "\n",
    "* `DrivAge`: 7 categorical classes [18; 21), [21; 26), [26; 31), [31; 41), [41; 51), [51; 71), [71;+inf) based on expert opinion.\n",
    "\n",
    "* `BonusMalus`: continuous feature (capping at value 150)\n",
    "\n",
    "* `VehBrand`: categorical feature (in total 11 classes)\n",
    "\n",
    "* `VehGas`: binary feature\n",
    "\n",
    "* `Density`: log-density is chosen as continuous log-linear feature c(has been created in `pol_clm_db.csv' as `LogDensity`)\n",
    "\n",
    "* `Region`: categorical feature (in total 22 classes)\n",
    "\n",
    "📢 Hint:\n",
    "* https://pandas.pydata.org/docs/reference/api/pandas.cut.html\n",
    "* https://pandas.pydata.org/docs/reference/api/pandas.DataFrame.astype.html\n",
    "* Confirm with `pol_clm_db.info()` that after applying the needed transformations you do have:\n",
    "    * 3 continuous features (`Area`, `BonusMalus`, `log-Density`)\n",
    "    * 1 binary feature (`VehGas`)\n",
    "    * 5 categorical features (`VehPower`, `VehAge`, `DrivAge`, `VehBrand`, `Region`) with their corresponding levels or categories. You can use `pol_clm_db.VARIABLE.unique()` to check if the values listed are correct"
   ]
  },
  {
   "cell_type": "code",
   "execution_count": null,
   "metadata": {
    "id": "d5WY0BjtLROv"
   },
   "outputs": [],
   "source": [
    "pol_clm_db = pd.read_csv('______/datasets/pol_clm_db.csv',\n",
    "    columns = ['IDpol', 'ClaimNb', 'Exposure', 'Area', 'VehPower', 'VehAge', 'DrivAge', 'BonusMalus', 'VehBrand', 'VehGas', 'LogDensity', 'Region', 'ClaimAmount'])\n",
    "# Perform the needed transformations according to the type and description of the variable\n",
    "pol_clm_db['AreaGLM']         = ______\n",
    "pol_clm_db['VehPowerGLM']     = ______\n",
    "pol_clm_db['VehAgeGLM']       = ______\n",
    "pol_clm_db['DrivAgeGLM']      = ______\n",
    "pol_clm_db['BonusMalusGLM']   = ______\n",
    "pol_clm_db['VehBrandGLM']     = ______\n",
    "pol_clm_db['VehGasGLM']       = ______\n",
    "pol_clm_db['LogDensityGLM']   = ______\n",
    "pol_clm_db['RegionGLM']       = ______"
   ]
  },
  {
   "cell_type": "markdown",
   "metadata": {
    "id": "jzhTylxCLROv"
   },
   "source": [
    "#### 1.2. Responses pre-processing\n",
    "\n",
    "📝 Create the following response variables:\n",
    "* Frequency: number of claims by exposure\n",
    "\n",
    "(be careful: in claim count models we either use the number of claims as outcome variable combined with exposure, or the frequency variable with exposure as weight in the loss function; in the below instructions carefully reflect if you want to use frequency or number of claims)\n",
    "* Severity: average claim amount per claim reported\n",
    "* Pure premium: claim amount per unit of exposure\n",
    "\n",
    "📝 Check the existence of missing values for any of these response variables\n",
    "\n",
    "📢 Hint:\n",
    "\n",
    "* Be careful when calculating the severity as there are (obviously) many cases where the number of claims reported is 0\n"
   ]
  },
  {
   "cell_type": "code",
   "execution_count": null,
   "metadata": {
    "id": "0z9uFt0eLROv"
   },
   "outputs": [],
   "source": [
    "pol_clm_db['Frequency']   = _______________\n",
    "pol_clm_db[\"Severity\"]    = _______________\n",
    "pol_clm_db[\"PurePremium\"] = _______________\n",
    "\n",
    "# check missing value\n",
    "_________________"
   ]
  },
  {
   "cell_type": "markdown",
   "metadata": {
    "id": "pc5Dn2ATLROw",
    "tags": []
   },
   "source": [
    "#### 1.3. Train and test sets\n",
    "\n",
    "📝 Use the `train_test_split` function from the module `sklearn.model_selection` to split the data into training (90%) and test sets(10%)\n",
    "* Fix the seed `random_state=210`\n",
    "\n",
    "📝 Study and run the function `split_stat`\n",
    "\n",
    "📝 Apply `split_stat` to check if the resulting split for test and train data looks reasonable (similar) in terms of exposure, claim numbers, frequency and severity.\n",
    "\n",
    "What can you conclude from the results?\n",
    "\n",
    "📢 Hint:\n",
    "* https://scikit-learn.org/stable/modules/generated/sklearn.model_selection.train_test_split.html"
   ]
  },
  {
   "cell_type": "code",
   "execution_count": null,
   "metadata": {
    "id": "vBl4rpIXLROw"
   },
   "outputs": [],
   "source": [
    "from sklearn.model_selection import train_test_split\n",
    "trn_db, tst_db = train_test_split( _______________, test_size=_______________,  random_state=210, shuffle=True)"
   ]
  },
  {
   "cell_type": "code",
   "execution_count": null,
   "metadata": {
    "id": "kA1b7FLqLROw"
   },
   "outputs": [],
   "source": [
    "# Check datasets\n",
    "def split_stat(dat_in, trn_db, tst_db):\n",
    "    # dat_in: full database\n",
    "    # trn_db: train database\n",
    "    # tst_db: test database\n",
    "\n",
    "    # Check resulting split looks reasonable\n",
    "    return dat_in.assign(\n",
    "        # Add indicator columns for whether each row is in_train, in_test\n",
    "        in_train=dat_in.IDpol.isin(trn_db.IDpol),\n",
    "        in_test=dat_in.IDpol.isin(tst_db.IDpol),\n",
    "        # Add column of which subset each row is in\n",
    "        subset=lambda x: np.select(\n",
    "            [x.in_train, x.in_test],\n",
    "            ['train', 'test'],\n",
    "            default='no_subset')\n",
    "    ).groupby(  # Group rows by which subset they are in\n",
    "        ['in_train', 'in_test', 'subset']\n",
    "    ).agg({  # Calculate stats for each group\n",
    "        'IDpol': 'size', 'Exposure': 'sum', 'ClaimNb': 'sum', 'ClaimAmount': 'sum'\n",
    "    }).rename(columns={'IDpol': 'NumOfRows'}).assign(\n",
    "        # Add additional stats\n",
    "        NumOfRowsProp = lambda x: x.NumOfRows   / x.NumOfRows.sum(),\n",
    "        ExposureProp  = lambda x: x.Exposure    / x.Exposure.sum(),\n",
    "        ClaimNbProp   = lambda x: x.ClaimNb     / x.ClaimNb.sum(),\n",
    "        Frequency     = lambda x: x.ClaimNb     / x.Exposure,\n",
    "        Severity      = lambda x: x.ClaimAmount / x.ClaimNb\n",
    "\n",
    "    ).pipe(lambda df: df.append(pd.DataFrame.from_dict({\n",
    "        # Add totals row. It is the sum for every column except 'Frequency', 'Severity'\n",
    "        # where it is the overall claims frequency of the entire data set\n",
    "        ('Total','','',''): [\n",
    "            (lambda x: df.ClaimNb.sum() / df.Exposure.sum() if x == 'Frequency' else df.ClaimAmount.sum() / df.ClaimNb.sum())(col_name) if col_name in ['Frequency', 'Severity']\n",
    "            else df.loc[:,col_name].sum() for col_name in df.columns\n",
    "        ]}, orient='index', columns=df.columns\n",
    "    ))\n",
    "    )"
   ]
  },
  {
   "cell_type": "code",
   "execution_count": null,
   "metadata": {
    "id": "c_Xq7V7QLROw"
   },
   "outputs": [],
   "source": [
    "split_stat(_______________, _______________, _______________)"
   ]
  },
  {
   "cell_type": "markdown",
   "metadata": {
    "id": "IFkh8vhkLROw",
    "tags": []
   },
   "source": [
    "## 2.  Frequency modeling"
   ]
  },
  {
   "cell_type": "markdown",
   "metadata": {
    "id": "EL5h3GXrLROw"
   },
   "source": [
    "\n",
    "From the previous task, we observe a slight bias in terms of frequency and severity across the two constructed data sets, which could be further analyzed w.r.t. the available features (i.e. whether we also have a feature shift), and one could also consider the construction of a stratified choice of training and test data sets. Here, we refrain from doing so.\n",
    "\n",
    "We can now kick off the modeling part. In the following, we will fit various claim frequency models based on a Poisson distributional assumption.\n",
    "\n",
    "All insurance policies i = 1, 2, ... can be described by independent claim counts $N_i$ having distribution\n",
    "\n",
    "$$ N_i \\sim \\text{Poi} (\\lambda(x_i) \\cdot \\nu_i) $$.\n",
    "\n",
    "That is: claim counts $N_i$ are assumed to be independent across the policies $i=1, 2,\\ldots $ and to follow a Poisson distribution with mean $\\lambda(x_i) \\cdot \\nu_i $ where $\\nu_i$ is the registered exposure to risk for policyholder $i$ and $\\lambda(x_i)$ is a function of the covariates $x_i$.\n",
    "\n",
    "We will explore the following set of models:\n",
    "* Flat Load\n",
    "* GLM\n",
    "* Regression Tree\n",
    "* Random Forest\n",
    "* GBM"
   ]
  },
  {
   "cell_type": "markdown",
   "metadata": {
    "id": "yAJC6qR0LROw"
   },
   "source": [
    "#### 2.1. The Poisson deviance\n",
    "\n",
    "The (scaled) Poisson deviance is defined as follows:\n",
    "\n",
    "$$\n",
    "\\begin{aligned}\n",
    "D^{*}(\\boldsymbol{N}, \\lambda) &=\\sum_{i=1}^{n} 2 N_{i}\\left[\\frac{\\lambda(x_i) v_{i}}{N_{i}}-1-\\log \\left(\\frac{\\lambda(x_i) v_{i}}{N_{i}}\\right)\\right]\n",
    "\\end{aligned}\n",
    "$$\n",
    "\n",
    "where $N_i$ is the observed number of claims, $v_i$ is the exposure, and the $i^{th}$ term is set equal to $2\\lambda(x_i) v_i$ for $N_i = 0$.\n",
    "\n",
    "For fair comparison of results, we define **average poisson deviance loss** as (scaled) Poisson deviance divided by the number of observatons in training or test set. Denote the number of observations with $n$, then we want\n",
    "\n",
    "$$\\frac{D^{*}(\\boldsymbol{N}, \\lambda)}{n} $$\n",
    "\n",
    "📝 Compare the given expression for the deviance to the one discussed in the lectures, and expressions found in the literature.\n",
    "\n",
    "📝 Define a function `av_poisson_deviance` for calculating the average poisson deviance (as defined above), for training and test set.\n",
    "\n"
   ]
  },
  {
   "cell_type": "code",
   "execution_count": null,
   "metadata": {
    "id": "_C9Gl4epLROw"
   },
   "outputs": [],
   "source": [
    "# As we are going to compare various models, we create a table which stores the metrics we are going to use for the comparison and the selection of the best model.\n",
    "\n",
    "mod_res = pd.DataFrame(\n",
    "    {'model'             : pd.Series(dtype='str'),\n",
    "     'in_sample_loss'    : pd.Series(dtype='float'),\n",
    "     'out_sample_loss'   : pd.Series(dtype='float'),\n",
    "     'aic'               : pd.Series(dtype='float'),\n",
    "     'in_sample_gini'    : pd.Series(dtype='float'),\n",
    "     'out_sample_gini'   : pd.Series(dtype='float'),\n",
    "     'number_of_param'   : pd.Series(dtype='int')\n",
    "     })\n",
    "\n",
    "# av_poisson_deviance: average possion deviance, which is defined as scaled possion deviance divided by the number of observations\n",
    "def av_poisson_deviance(y_freq, p_freq, exposure):\n",
    "    # y_freq: array-like, observed frequency\n",
    "    # p_freq: array-like, predicted number of claims\n",
    "    # exposure: array-like, exposure\n",
    "\n",
    "    y_freq, p_freq = np.asarray(y_freq), np.asarray(p_freq)\n",
    "    exposure = np.asarray(exposure)\n",
    "\n",
    "    y = ____________   # observed number of claims\n",
    "    p = ____________   # predicted number of claims\n",
    "\n",
    "    d = ____________\n",
    "\n",
    "    av_deviance = ____________\n",
    "\n",
    "    return(av_deviance)\n",
    "\n",
    "y_freq_trn   = trn_db['Frequency']\n",
    "y_trn        = trn_db['ClaimNb']\n",
    "expo_trn     = trn_db['Exposure']\n",
    "\n",
    "y_freq_tst   = tst_db['Frequency']\n",
    "y_tst        = tst_db['ClaimNb']\n",
    "expo_tst     = tst_db['Exposure']"
   ]
  },
  {
   "cell_type": "code",
   "execution_count": null,
   "metadata": {
    "id": "1VwN3tPqLROx"
   },
   "outputs": [],
   "source": [
    "from sklearn.metrics import auc\n",
    "def lorenz_curve(y_freq, p_freq, exposure):\n",
    "    '''\n",
    "    y_freq: actual frequency\n",
    "    p_freq: predicated frequency\n",
    "    exposure: exposure\n",
    "\n",
    "    '''\n",
    "\n",
    "    y_freq, p_freq = np.asarray(y_freq), np.asarray(p_freq)\n",
    "    exposure = np.asarray(exposure)\n",
    "\n",
    "    # order samples by increasing predicted risk:\n",
    "    ranking = np.argsort(p_freq)\n",
    "    ranked_frequencies = y_freq[ranking]\n",
    "    ranked_exposure = exposure[ranking]\n",
    "    cumulated_claims = np.cumsum(ranked_frequencies * ranked_exposure)\n",
    "    cumulated_claims /= cumulated_claims[-1]\n",
    "    cumulated_exposure = np.cumsum(ranked_exposure)\n",
    "    cumulated_exposure /= cumulated_exposure[-1]\n",
    "\n",
    "    gini = 1 - 2 * auc(cumulated_exposure, cumulated_claims)\n",
    "\n",
    "    return cumulated_exposure, cumulated_claims, gini\n",
    "\n",
    "def store_mod_res(\n",
    "    mod_res,\n",
    "    mod,\n",
    "    mod_name,\n",
    "    y_freq_trn, p_freq_trn, expo_trn,\n",
    "    y_freq_tst, p_freq_tst, expo_tst,\n",
    "    isGLM=True,\n",
    "    isRF=False,\n",
    "    isGBM=False):\n",
    "\n",
    "    n = len(mod_res)\n",
    "\n",
    "    trn_av_d = av_poisson_deviance(y_freq_trn, p_freq_trn, expo_trn)\n",
    "    tst_av_d = av_poisson_deviance(y_freq_tst, p_freq_tst, expo_tst)\n",
    "\n",
    "    # trn_av_d = mean_poisson_deviance(y_freq_trn, p_freq_trn, expo_trn)\n",
    "    # tst_av_d = mean_poisson_deviance(y_freq_tst, p_freq_tst, expo_tst)\n",
    "\n",
    "    AIC      = round(mod.aic,0) if isGLM else np.nan\n",
    "\n",
    "    if isGLM:\n",
    "        param_n  = len(mod.params)\n",
    "    elif isRF:\n",
    "        param_n =  mod.n_features_in_\n",
    "    elif not isGBM:\n",
    "        param_n = mod.get_n_leaves()\n",
    "    else:\n",
    "        param_n = np.nan\n",
    "\n",
    "    _, _, trn_gini = lorenz_curve(y_freq_trn, p_freq_trn, expo_trn)\n",
    "    _, _, tst_gini = lorenz_curve(y_freq_tst, p_freq_tst, expo_tst)\n",
    "\n",
    "    mod_res.loc[n] = [mod_name, trn_av_d, tst_av_d, AIC, trn_gini, tst_gini, param_n]\n",
    "\n",
    "    return mod_res"
   ]
  },
  {
   "cell_type": "markdown",
   "metadata": {
    "id": "nG1pFPJYLROx",
    "tags": []
   },
   "source": [
    "#### 2.2. Naive GLM\n",
    "\n",
    "We are now ready to construct a first frequency model using a naive GLM, that is a GLM in which **no variables are included**. This is also called a flat load model.\n",
    "\n",
    "📝Complete the code for the naive GLM; be careful with the combination of response variable + exposure, as mentioned above.\n",
    "\n",
    "📝Get the fitted values from the trained GLM for both train and test sets and run the `store_mod_res` to store the model results\n",
    "\n",
    "📝Verify that the fitted value equals the observed claim frequency (per unit of exposure) on the train dataset\n",
    "\n",
    "📢 Hints:\n",
    "* https://www.statsmodels.org/stable/glm.html\n",
    "* The formula for a model with no variables follows as `response_variable ~ 1`\n",
    "* https://numpy.org/doc/stable/reference/generated/numpy.exp.html"
   ]
  },
  {
   "cell_type": "code",
   "execution_count": null,
   "metadata": {
    "id": "ree4VAR_LROx"
   },
   "outputs": [],
   "source": [
    "import statsmodels.formula.api as smf\n",
    "import statsmodels.api as sm\n",
    "# Build the homogeneous GLM\n",
    "GLM_freq_naive = smf.glm(\n",
    "  ____________,\n",
    "  data = trn_db,\n",
    "  exposure = np.asarray(trn_db['Exposure']),\n",
    "  family = sm.families.Poisson(sm.genmod.families.links.log())\n",
    ").fit()\n",
    "\n",
    "print(GLM_freq_naive.summary())"
   ]
  },
  {
   "cell_type": "code",
   "execution_count": null,
   "metadata": {
    "id": "2GMPX3yJLROx"
   },
   "outputs": [],
   "source": [
    "# Get fitted values for train and test sets\n",
    "p_freq_trn = np.repeat(____________, len(trn_db))\n",
    "p_freq_tst_GLM0 = np.repeat(____________, len(tst_db))\n",
    "\n",
    "# Get assessment metrics\n",
    "mod_res = store_mod_res(mod_res, GLM_freq_naive, \"GLM_freq_naive\", y_freq_trn, p_freq_trn, expo_trn, y_freq_tst, p_freq_tst_GLM0, expo_tst)"
   ]
  },
  {
   "cell_type": "code",
   "execution_count": null,
   "metadata": {
    "id": "2etYpzIhLROx"
   },
   "outputs": [],
   "source": [
    "print( 'GLM estimates:', round( np.exp(GLM_freq_homo.params[0]), 4))\n",
    "print( 'Average frequency on the train dataset:', round( sum( trn_db['ClaimNb'] )/sum( trn_db['Exposure'] ), 4) )"
   ]
  },
  {
   "cell_type": "markdown",
   "metadata": {
    "id": "vj0xbF0kLROx",
    "tags": []
   },
   "source": [
    "#### 2.3. GLM with all the features\n",
    "\n",
    "📝Complete the code for a GLM with the 9 covariates included\n",
    "\n",
    "📝Get the fitted values from the trained GLM for both train and test sets and run the `store_mod_res` to store the model results; reflect on these metrics: what is stored here?\n",
    "\n",
    "📝Inspect the model summary\n",
    "\n",
    "💬 What can you conclude from the results obtained?\n",
    "\n",
    "Would you perform any changes wrt the model specification? If so, what are your suggestions?\n"
   ]
  },
  {
   "cell_type": "code",
   "execution_count": null,
   "metadata": {
    "id": "aTUJWdHNLROx"
   },
   "outputs": [],
   "source": [
    "features = ____________   # list with 9 text entries (variables' names)\n",
    "GLM_freq_all = smf.glm(\n",
    "  \"ClaimNb ~ \" + ' + '.join(features),\n",
    "  data=____________,      # train database\n",
    "  exposure=____________,  # exposure array\n",
    "  family=sm.families.Poisson(sm.genmod.families.links.log())\n",
    ").fit()\n",
    "\n",
    "# Get estimates\n",
    "p_freq_trn = ____________ # train database\n",
    "p_freq_tst_GLM = ____________ # test database\n",
    "\n",
    "mod_res = store_mod_res(mod_res, GLM_freq_all, \"GLM_freq_all\", y_freq_trn, p_freq_trn, expo_trn, p_freq_tst_GLM, p_freq_tst_GLM0, expo_tst)"
   ]
  },
  {
   "cell_type": "code",
   "execution_count": null,
   "metadata": {
    "id": "HaH7_4q5LROx"
   },
   "outputs": [],
   "source": [
    "# Inspect the model summary\n",
    "print(GLM_freq_all.summary())\n",
    "mod_res"
   ]
  },
  {
   "cell_type": "markdown",
   "metadata": {
    "id": "KElkOLZalWue"
   },
   "source": [
    "### 2.4. A regression tree with binary splits"
   ]
  },
  {
   "cell_type": "markdown",
   "metadata": {
    "id": "hIt9-fa1LROx",
    "tags": []
   },
   "source": [
    "##### 2.4.1. Fitting a regression tree\n",
    "\n",
    "We propose the following pre-processing steps for the regression trees:\n",
    "\n",
    "1. If there is a natural ordering in a categorical feature, then we will replace this feature with an increasing sequence of real numbers\n",
    "\n",
    "2. It can be computationally very expensive if we have many (unordered) categorical feature components with many possible levels\n",
    "\n"
   ]
  },
  {
   "cell_type": "markdown",
   "metadata": {
    "id": "r9wLQ5JxLROx"
   },
   "source": [
    "\n",
    "\n",
    "📝 Define two lists with continuous and categorical features, respectively\n",
    "\n",
    "📝 Run the one hot encoding on the categorical features. Explain what this does.\n",
    "\n",
    "📝 Define the response variables for both train and test datasets\n",
    "\n",
    "📝 Which of the 4 options below is the correct instruction to fit the regression tree?\n",
    "\n",
    "    1. DecisionTree.fit(X_trn, ClaimNb, sample_weight=None)\n",
    "\n",
    "    2. DecisionTree.fit(X_trn, ClaimNb, sample_weight=Exposure)\n",
    "\n",
    "    3. DecisionTree.fit(X_trn, Frequency, sample_weight=None)\n",
    "\n",
    "    4. DecisionTree.fit(X_trn, Frequency, sample_weight=Exposure)\n",
    "\n",
    "Implement the correct one and fit the model. Reflect on control parameters that can be set. Reflect on the possibility of overfitting and ways to combat overfitting when constructing a regression tree.\n",
    "\n",
    "📝 Get the fitted values from the trained model for both train and test sets and run the `store_mod_res` to store the model results\n",
    "\n",
    "📢 Hints:\n",
    "* https://pandas.pydata.org/docs/reference/api/pandas.get_dummies.html\n",
    "* https://scikit-learn.org/stable/modules/generated/sklearn.tree.DecisionTreeRegressor.html"
   ]
  },
  {
   "cell_type": "code",
   "execution_count": null,
   "metadata": {
    "id": "VV6pE45_LROy"
   },
   "outputs": [],
   "source": [
    "from sklearn.tree import DecisionTreeRegressor\n",
    "feat_cnt = ____________ # list with (3) continuous features\n",
    "feat_cat  = ____________ # list with (6) categorical features\n",
    "\n",
    "# one hot encoding for categorical variables as DecisionTreeRegressor can only deal with numerical values\n",
    "# https://www.educative.io/blog/one-hot-encoding\n",
    "onehot_coded_trn_db = pd.get_dummies(trn_db[feat_cat])\n",
    "onehot_coded_tst_db = pd.get_dummies(tst_db[feat_cat])\n",
    "\n",
    "X_trn = pd.concat([trn_db[feat_cnt], onehot_coded_trn_db], axis=1)\n",
    "X_tst = pd.concat([tst_db[feat_cnt], onehot_coded_tst_db], axis=1)"
   ]
  },
  {
   "cell_type": "code",
   "execution_count": null,
   "metadata": {
    "id": "5ttshQRGLROy"
   },
   "outputs": [],
   "source": [
    "# Set response variable: frequency\n",
    "y_trn = ____________   # on train dataset\n",
    "y_tst = ____________   # on test dataset\n",
    "\n",
    "# criterion = poisson in DecisionTree seems not work very well. So in this case, we use default loss function to split the tree. The result can be regarded as a good approximation to the optimal split as long as data size is large enough.\n",
    "RT0_freq = DecisionTreeRegressor(ccp_alpha=5e-5, min_samples_leaf=10_000, random_state=2000)\n",
    "\n",
    "# What of the 4 formulas is the correct?\n",
    "RT0_freq.fit(X_trn,                     # train dataset\n",
    "    y_trn,                              # response variable\n",
    "    sample_weight = ____________        # weight array\n",
    "    )"
   ]
  },
  {
   "cell_type": "code",
   "execution_count": null,
   "metadata": {
    "id": "84TVlT78LROy"
   },
   "outputs": [],
   "source": [
    "# Get estimates and inspect them\n",
    "p_freq_trn     = RT0_freq.predict(____________) # train dataset\n",
    "p_freq_tst_RT0 = RT0_freq.predict(____________) # test dataset\n",
    "\n",
    "p_freq_trn"
   ]
  },
  {
   "cell_type": "code",
   "execution_count": null,
   "metadata": {
    "id": "Y6rhELHcLROy"
   },
   "outputs": [],
   "source": [
    "# Get model results\n",
    "mod_res = store_mod_res(mod_res, RT0_freq, \"RT_freq\", y_freq_trn, p_freq_trn, expo_trn, y_freq_tst, p_freq_tst_RT0, expo_tst, isGLM=False)\n",
    "mod_res"
   ]
  },
  {
   "cell_type": "markdown",
   "metadata": {
    "id": "jiaz4UfwLROy"
   },
   "source": [
    "##### 2.4.2. Visualize the regression tree\n",
    "\n",
    "Python offers tools to nicely visualize the constructed trees.\n",
    "\n",
    "📝 Investigate the function `plot_tree` from `sklearn`\n",
    "\n",
    "📝 Implement the `plot_tree` from `sklearn` to obtain the interpretation of the model. What is your understanding?\n",
    "\n",
    "📝 Run the partial dependence plot for the `BonusMalusGLM`. What can you conclude?\n",
    "\n",
    "📢 Hints:\n",
    "* https://scikit-learn.org/stable/modules/generated/sklearn.tree.plot_tree.html\n",
    "* https://scikit-learn.org/stable/modules/generated/sklearn.tree.export_text.html"
   ]
  },
  {
   "cell_type": "code",
   "execution_count": null,
   "metadata": {
    "id": "w1K92L2WLROy"
   },
   "outputs": [],
   "source": [
    "# Decision tree\n",
    "import matplotlib.pyplot as plt\n",
    "from sklearn.tree import plot_tree\n",
    "# Tree visualization\n",
    "plt.figure(figsize=(10,8), dpi=150)\n",
    "plot_tree(RT0_freq, feature_names=X_trn.columns, proportion=True)\n",
    "\n",
    "from sklearn.tree import export_text\n",
    "r = export_text(RT0_freq, feature_names=X_trn.columns.tolist())\n",
    "print(r)"
   ]
  },
  {
   "cell_type": "code",
   "execution_count": null,
   "metadata": {
    "id": "diBVqtfrLROy"
   },
   "outputs": [],
   "source": [
    "# The partial dependence plot shows the marginal effect one or two features have on the predicted outcome of a machine learning model.\n",
    "# A partial dependence plot can show whether the relationship between the target and a feature is linear, monotonic or more complex. For example, when applied to a linear regression model, partial dependence plots always show a linear relationship.\n",
    "# E(Y | X=x)\n",
    "from sklearn.inspection import PartialDependenceDisplay\n",
    "PartialDependenceDisplay.from_estimator(RT0_freq, X_trn, ['BonusMalusGLM'])"
   ]
  },
  {
   "cell_type": "markdown",
   "metadata": {
    "id": "HHS_3FmXLROy",
    "tags": []
   },
   "source": [
    "### 2.5. Random Forest\n",
    "\n",
    "📝 Complete the blank spaces (similar to the ones already completed in Section 2.5 on Regression Tree) and run the code\n",
    "\n",
    "📝 Run the cell to obtain the model results. What is the best model so far?\n",
    "\n",
    "\n",
    "📝 Run the partial dependence plot for the `BonusMalusGLM`. What can you conclude?\n",
    "\n",
    "📢 Hints:\n",
    "* https://scikit-learn.org/stable/modules/generated/sklearn.ensemble.RandomForestRegressor.html"
   ]
  },
  {
   "cell_type": "code",
   "execution_count": null,
   "metadata": {
    "id": "vPNNEGinLROy"
   },
   "outputs": [],
   "source": [
    "from sklearn.ensemble import RandomForestRegressor\n",
    "feat_cnt = ____________ # list with (3) continuous features\n",
    "feat_cat  = ____________ # list with (6) categorical features\n",
    "\n",
    "\n",
    "# one hot encoding for categorical variables as DecisionTreeRegressor can only deal with numerical values\n",
    "# https://www.educative.io/blog/one-hot-encoding\n",
    "onehot_coded_trn_db = pd.get_dummies(trn_db[feat_cat])\n",
    "onehot_coded_tst_db = pd.get_dummies(tst_db[feat_cat])\n",
    "\n",
    "X_trn = pd.concat([trn_db[feat_cnt], onehot_coded_trn_db], axis=1)\n",
    "X_tst = pd.concat([tst_db[feat_cnt], onehot_coded_tst_db], axis=1)\n",
    "\n",
    "# Set response variable: frequency\n",
    "y_trn = ____________   # train dataset\n",
    "y_tst = ____________   # test dataset\n",
    "\n",
    "# criterion = poisson in DecisionTree seems not work very well. So in this case, we use default loss function to split the tree. The result can be regarded as a good approximation to the optimal split as long as data size is large enough.\n",
    "RF_freq = RandomForestRegressor(max_depth=2, random_state=0, criterion='poisson')\n",
    "\n",
    "RT0_freq.fit(____________, # train dataset\n",
    "    ____________,          # response variable\n",
    "    sample_weight=expo_trn\n",
    " )\n",
    "\n",
    "# Get estimates\n",
    "p_freq_trn     = RF_freq.predict(____________) # train dataset\n",
    "p_freq_tst_RF  = RF_freq.predict(____________) # test dataset"
   ]
  },
  {
   "cell_type": "code",
   "execution_count": null,
   "metadata": {
    "id": "rTRBrK1nLROy"
   },
   "outputs": [],
   "source": [
    "# Model results\n",
    "mod_res = store_mod_res(mod_res, RF_freq, \"RF_freq\", y_freq_trn, p_freq_trn, expo_trn, y_freq_tst, p_freq_tst_RF, expo_tst, isGLM=False, isRF=True)\n",
    "mod_res"
   ]
  },
  {
   "cell_type": "code",
   "execution_count": null,
   "metadata": {
    "id": "jod9FVrNLROy"
   },
   "outputs": [],
   "source": [
    "# Partial dependency plot\n",
    "from sklearn.inspection import PartialDependenceDisplay\n",
    "PartialDependenceDisplay.from_estimator(RF_freq, X_trn, ['BonusMalusGLM'])"
   ]
  },
  {
   "cell_type": "markdown",
   "metadata": {
    "id": "Gu1elbTfLROz"
   },
   "source": [
    "### 2.6. Light GBM\n",
    "\n",
    "📝 Complete the blank spaces and run the code\n",
    "\n",
    "📝 Run the cell for the model results. What is the best model so far?\n",
    "\n",
    "📢 Hints:\n",
    "* https://lightgbm.readthedocs.io/en/v3.3.2/"
   ]
  },
  {
   "cell_type": "code",
   "execution_count": null,
   "metadata": {
    "id": "Ra-FKHw7LROz"
   },
   "outputs": [],
   "source": [
    "import lightgbm as lgb\n",
    "\n",
    "feat_cnt = ____________ # list with (3) continuous features\n",
    "feat_cat  = ____________ # list with (6) categorical features\n",
    "\n",
    "\n",
    "# one hot encoding for categorical variables as DecisionTreeRegressor can only deal with numerical values\n",
    "# https://www.educative.io/blog/one-hot-encoding\n",
    "onehot_coded_trn_db = pd.get_dummies(trn_db[feat_cat])\n",
    "onehot_coded_tst_db = pd.get_dummies(tst_db[feat_cat])\n",
    "\n",
    "X_trn_lgbm = trn_db[feat_cnt + feat_cat]\n",
    "X_tst_lgbm = tst_db[feat_cnt + feat_cat]\n",
    "\n",
    "# Set response variable: frequency\n",
    "y_trn = ____________   # train dataset\n",
    "y_tst = ____________   # test dataset\n",
    "\n",
    "for cat in feat_cat:\n",
    "    X_trn_lgbm[cat] = X_trn_lgbm[cat].cat.codes\n",
    "    X_tst_lgbm[cat] = X_tst_lgbm[cat].cat.codes\n",
    "\n",
    "train_data = lgb.Dataset(X_trn_lgbm, label=y_trn, weight=expo_trn)\n",
    "\n",
    "# Define gbm\n",
    "param = {'objective': 'poisson'}\n",
    "param['metric'] = 'poisson'\n",
    "lgbm_freq = lgb.train(param, train_data)\n",
    "\n",
    "# Get estimates\n",
    "p_freq_trn      = lgbm_freq.predict(____________) # train dataset\n",
    "p_freq_tst_LGBM = lgbm_freq.predict(____________) # test dataset"
   ]
  },
  {
   "cell_type": "code",
   "execution_count": null,
   "metadata": {
    "id": "Vu14LoFELROz"
   },
   "outputs": [],
   "source": [
    "# Model results\n",
    "mod_res = store_mod_res(mod_res, lgbm_freq, \"lgbm_freq\", y_freq_trn, p_freq_trn, expo_trn, y_freq_tst, p_freq_tst_LGBM, expo_tst, isGLM=False, isRF=False, isGBM=True)\n",
    "mod_res"
   ]
  },
  {
   "cell_type": "markdown",
   "metadata": {
    "id": "wCkpXG1cLROz"
   },
   "source": [
    "### 2.7. Final comparison\n",
    "\n",
    "📝 Study the function `lift_chart`.\n",
    "* What is this function doing? What are the expected outputs?\n",
    "\n",
    "📝 Run `lift_chart` to obtain the lift chart for the models tested\n",
    "* What can you conclude from these results? How do they relate with the observed in `mod_res`?\n"
   ]
  },
  {
   "cell_type": "code",
   "execution_count": null,
   "metadata": {
    "id": "0o4QS4Z9LRO0"
   },
   "outputs": [],
   "source": [
    "from sklearn.utils import gen_even_slices\n",
    "def mean_frequency_by_risk_group(y_true, y_pred, sample_weight=None, n_bins=100):\n",
    "    \"\"\"Compare predictions and observations for bins ordered by y_pred.\n",
    "\n",
    "    We order the samples by ``y_pred`` and split it in bins.\n",
    "    In each bin the observed mean is compared with the predicted mean.\n",
    "\n",
    "    Parameters\n",
    "    ----------\n",
    "    y_true: array-like of shape (n_samples,)\n",
    "        Ground truth (correct) target values.\n",
    "    y_pred: array-like of shape (n_samples,)\n",
    "        Estimated target values.\n",
    "    sample_weight : array-like of shape (n_samples,)\n",
    "        Sample weights.\n",
    "    n_bins: int\n",
    "        Number of bins to use.\n",
    "\n",
    "    Returns\n",
    "    -------\n",
    "    bin_centers: ndarray of shape (n_bins,)\n",
    "        bin centers\n",
    "    y_true_bin: ndarray of shape (n_bins,)\n",
    "        average y_pred for each bin\n",
    "    y_pred_bin: ndarray of shape (n_bins,)\n",
    "        average y_pred for each bin\n",
    "    \"\"\"\n",
    "    idx_sort = np.argsort(y_pred)\n",
    "    bin_centers = np.arange(0, 1, 1 / n_bins) + 0.5 / n_bins\n",
    "    y_pred_bin = np.zeros(n_bins)\n",
    "    y_true_bin = np.zeros(n_bins)\n",
    "\n",
    "    for n, sl in enumerate(gen_even_slices(len(y_true), n_bins)):\n",
    "        weights = sample_weight[idx_sort][sl]\n",
    "        y_pred_bin[n] = np.average(y_pred[idx_sort][sl], weights=weights)\n",
    "        y_true_bin[n] = np.average(y_true[idx_sort][sl], weights=weights)\n",
    "    return bin_centers, y_true_bin, y_pred_bin\n",
    "\n",
    "def lift_chart(estimates_preds, estimates_names, y_tst, expo_tst):\n",
    "    \"\"\" Visual results from the mean_frequency_by_risk_group function.\n",
    "\n",
    "    Parameters\n",
    "    ----------\n",
    "    estimates_preds: array-like with the models' predictions\n",
    "    # Example: estimates_preds = [p_freq_tst_GLM, p_freq_tst_RT0, p_freq_tst_RF, p_freq_tst_LGBM]\n",
    "    estimates_names: array-like with the models'names\n",
    "    # Example: estimates_names = ['GLM', 'Decision Tree', 'Random Forest', 'Light GBM']\n",
    "    expo_tst: array-like with the exposure\n",
    "    y_tst: array-like with observed values\n",
    "\n",
    "    Returns\n",
    "    -------\n",
    "    plot\n",
    "    \"\"\"\n",
    "\n",
    "    n_rows_plot = int(np.ceil(len(estimates_names)/2))\n",
    "    fig, ax = plt.subplots(nrows=n_rows_plot, ncols=2, figsize=(12, 8))\n",
    "    plt.subplots_adjust(wspace=0.3)\n",
    "    for axi, y_pred, model_name in zip(ax.ravel(), estimates_preds, estimates_names):\n",
    "        y_true = y_tst.values\n",
    "        exposure = expo_tst.values\n",
    "        y_pred = y_pred\n",
    "        q, y_true_seg, y_pred_seg = mean_frequency_by_risk_group(\n",
    "        y_true, y_pred, sample_weight=exposure, n_bins=10\n",
    "        )\n",
    "\n",
    "        axi.plot(q, y_pred_seg, marker=\"x\", linestyle=\"--\", label=\"predictions\")\n",
    "        axi.plot(q, y_true_seg, marker=\"o\", linestyle=\"--\", label=\"observations\")\n",
    "        axi.set_xlim(0, 1.0)\n",
    "        axi.set_ylim(0, 0.5)\n",
    "        axi.set(\n",
    "            title=model_name,\n",
    "            xlabel=\"Fraction of samples sorted by y_pred\",\n",
    "            ylabel=\"Mean Frequency (y_pred)\",\n",
    "        )\n",
    "        axi.legend()\n",
    "    plt.tight_layout()"
   ]
  },
  {
   "cell_type": "code",
   "execution_count": null,
   "metadata": {
    "id": "kogdpIICLRO0"
   },
   "outputs": [],
   "source": [
    "lift_chart([____________, ____________, ____________, ____________, ____________], ['Flat Load', 'GLM', 'Decision Tree', 'Random Forest', 'Light GBM'], y_tst, expo_tst)"
   ]
  },
  {
   "cell_type": "code",
   "execution_count": null,
   "metadata": {
    "id": "J0K5jujzLRO0"
   },
   "outputs": [],
   "source": [
    "mod_res"
   ]
  },
  {
   "cell_type": "markdown",
   "metadata": {
    "id": "sBIYsDm0LRO0"
   },
   "source": [
    "### 2.8. Challenge 🏆\n",
    "\n",
    "Do you think it is possible to get **better models** than the 5 ones we went through?\n",
    "\n",
    "Yes, it is quite possible since we only modelled using barely the default values. There is obviously room for improvement!\n",
    "* One can try to tune any of the models trained so the depth, number of iterations/trees, number of features used, among others can be optimized\n",
    "* One can improve the tuning using $k$-fold cross validation instead of modelling directly on the whole train dataset.\n"
   ]
  },
  {
   "cell_type": "markdown",
   "metadata": {
    "id": "fsauCkrsLRO0"
   },
   "source": [
    "Do you want to challenge the models created and come with a better solution?\n",
    "\n",
    "Then, take a look on the references hereunder and put your hands to work 💪\n",
    "* https://lightgbm.readthedocs.io/en/v3.3.2/Parameters-Tuning.html\n",
    "* https://optuna.org/\n",
    "* https://github.com/microsoft/FLAML\n",
    "* ChatGPT\n",
    "\n",
    "\n",
    "To assess the model created you can use both functions  `store_mod_res` and `lift_chart`. Other metrics are also welcome."
   ]
  },
  {
   "cell_type": "markdown",
   "metadata": {
    "id": "uUVjspajLRO0"
   },
   "source": [
    "📝 Pick one model and explore at least one improvement in the fitting of this model. Carefully explain your strategy!\n"
   ]
  },
  {
   "cell_type": "markdown",
   "metadata": {
    "id": "OLqocyE7pcYK"
   },
   "source": [
    "## 3. Severity modeling"
   ]
  },
  {
   "cell_type": "markdown",
   "metadata": {
    "id": "C97by1i6pu4w"
   },
   "source": [
    "📝 You will now build some severity models as well, along the instructions outlined above:\n",
    "- a naive GLM for claim severity; which distributional assmption do you propose?\n",
    "- a GLM for claim severity, including features\n",
    "- a tree / RF or GBM for claim severity.\n",
    "\n",
    "Discuss your findings and observations."
   ]
  },
  {
   "cell_type": "markdown",
   "metadata": {
    "id": "UC8ce33qLRO0"
   },
   "source": [
    "## 🎉 End of Part II of the pricing case!"
   ]
  }
 ],
 "metadata": {
  "colab": {
   "provenance": [],
   "toc_visible": true
  },
  "kernelspec": {
   "display_name": "Python 3 (ipykernel)",
   "language": "python",
   "name": "python3"
  },
  "language_info": {
   "codemirror_mode": {
    "name": "ipython",
    "version": 3
   },
   "file_extension": ".py",
   "mimetype": "text/x-python",
   "name": "python",
   "nbconvert_exporter": "python",
   "pygments_lexer": "ipython3",
   "version": "3.9.7"
  },
  "vscode": {
   "interpreter": {
    "hash": "36ed71853c7621d18b70a5d8aacb70f40f1cb4d38722df4616345bc91a745d96"
   }
  }
 },
 "nbformat": 4,
 "nbformat_minor": 1
}
